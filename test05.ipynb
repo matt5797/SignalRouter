{
 "cells": [
  {
   "cell_type": "code",
   "execution_count": 1,
   "id": "6b820b9f",
   "metadata": {},
   "outputs": [
    {
     "name": "stdout",
     "output_type": "stream",
     "text": [
      "Token acquired: eyJ0eXAiOiJKV1QiLCJh...\n"
     ]
    }
   ],
   "source": [
    "from src.trading import AuthFactory\n",
    "\n",
    "# 인증 설정 검증\n",
    "auth = AuthFactory.create_from_secret(\"secrets/futures_virtual_01.json\")\n",
    "token = auth.get_valid_token()\n",
    "print(f\"Token acquired: {token[:20]}...\")"
   ]
  },
  {
   "cell_type": "code",
   "execution_count": 2,
   "id": "94a66d1c",
   "metadata": {},
   "outputs": [
    {
     "name": "stderr",
     "output_type": "stream",
     "text": [
      "Get balance failed: [OPSQ0002] 없는 서비스 코드 입니다.\n",
      "Get positions failed: [OPSQ0002] 없는 서비스 코드 입니다.\n"
     ]
    },
    {
     "name": "stdout",
     "output_type": "stream",
     "text": [
      "Available balance: 0.0 KRW\n",
      "Current positions: 0\n"
     ]
    }
   ],
   "source": [
    "from src.trading import KisBroker\n",
    "\n",
    "broker = KisBroker(\n",
    "    account_id=\"test_account\",\n",
    "    secret_file_path=\"secrets/futures_virtual_01.json\", \n",
    "    is_virtual=True\n",
    ")\n",
    "\n",
    "# 잔고 조회 테스트\n",
    "balance = broker.get_balance()\n",
    "print(f\"Available balance: {balance['available_balance']:,} KRW\")\n",
    "\n",
    "# 포지션 조회 테스트  \n",
    "positions = broker.get_positions()\n",
    "print(f\"Current positions: {len(positions)}\")"
   ]
  }
 ],
 "metadata": {
  "kernelspec": {
   "display_name": "venv",
   "language": "python",
   "name": "python3"
  },
  "language_info": {
   "codemirror_mode": {
    "name": "ipython",
    "version": 3
   },
   "file_extension": ".py",
   "mimetype": "text/x-python",
   "name": "python",
   "nbconvert_exporter": "python",
   "pygments_lexer": "ipython3",
   "version": "3.13.4"
  }
 },
 "nbformat": 4,
 "nbformat_minor": 5
}
